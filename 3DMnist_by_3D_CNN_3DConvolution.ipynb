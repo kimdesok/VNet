{
  "nbformat": 4,
  "nbformat_minor": 0,
  "metadata": {
    "colab": {
      "name": "3DMnist-by-3D-CNN-3DConvolution.ipynb",
      "provenance": [],
      "collapsed_sections": [],
      "mount_file_id": "1ImRUsCo5vJ8ixauhfW-gdC2ChH99yjlg",
      "authorship_tag": "ABX9TyPpbkwkIO7BJ8DNb3enjnQ7",
      "include_colab_link": true
    },
    "kernelspec": {
      "name": "python3",
      "display_name": "Python 3"
    },
    "accelerator": "GPU"
  },
  "cells": [
    {
      "cell_type": "markdown",
      "metadata": {
        "id": "view-in-github",
        "colab_type": "text"
      },
      "source": [
        "<a href=\"https://colab.research.google.com/github/kimdesok/VNet-3D-Instance-Segmentation/blob/master/3DMnist_by_3D_CNN_3DConvolution.ipynb\" target=\"_parent\"><img src=\"https://colab.research.google.com/assets/colab-badge.svg\" alt=\"Open In Colab\"/></a>"
      ]
    },
    {
      "cell_type": "code",
      "metadata": {
        "id": "XVc98aRJuB7A",
        "colab": {
          "base_uri": "https://localhost:8080/",
          "height": 17
        },
        "outputId": "7d5d0b04-2767-4a66-8eda-96dfdbfb78bc"
      },
      "source": [
        "from keras.layers import Conv3D, MaxPool3D, Flatten, Dense, Activation\n",
        "from keras.layers import Dropout, Input, BatchNormalization\n",
        "from sklearn.metrics import confusion_matrix, accuracy_score\n",
        "from plotly.offline import iplot, init_notebook_mode\n",
        "from keras.losses import categorical_crossentropy\n",
        "from keras.optimizers import Adadelta, adam\n",
        "import plotly.graph_objs as go\n",
        "\n",
        "from keras.models import Model\n",
        "from keras.utils.np_utils import to_categorical\n",
        "import numpy as np\n",
        "import pandas as pd\n",
        "\n",
        "import keras\n",
        "import h5py\n",
        "\n",
        "init_notebook_mode(connected=True)\n",
        "%matplotlib inline\n",
        "import matplotlib.pyplot as plt\n",
        "from matplotlib.pyplot import cm\n",
        "\n",
        "import seaborn as sns\n",
        "import os\n",
        "#print(os.listdir(\"../input\"))"
      ],
      "execution_count": null,
      "outputs": [
        {
          "output_type": "display_data",
          "data": {
            "text/html": [
              "        <script type=\"text/javascript\">\n",
              "        window.PlotlyConfig = {MathJaxConfig: 'local'};\n",
              "        if (window.MathJax) {MathJax.Hub.Config({SVG: {font: \"STIX-Web\"}});}\n",
              "        if (typeof require !== 'undefined') {\n",
              "        require.undef(\"plotly\");\n",
              "        requirejs.config({\n",
              "            paths: {\n",
              "                'plotly': ['https://cdn.plot.ly/plotly-latest.min']\n",
              "            }\n",
              "        });\n",
              "        require(['plotly'], function(Plotly) {\n",
              "            window._Plotly = Plotly;\n",
              "        });\n",
              "        }\n",
              "        </script>\n",
              "        "
            ]
          },
          "metadata": {
            "tags": []
          }
        }
      ]
    },
    {
      "cell_type": "code",
      "metadata": {
        "id": "9gvCBmGmuPF-"
      },
      "source": [
        "with h5py.File('/content/drive/My Drive/3d/full_dataset_vectors.h5', 'r') as dataset:\n",
        "    x_train = dataset[\"X_train\"][:]\n",
        "    x_test = dataset[\"X_test\"][:]\n",
        "    y_train = dataset[\"y_train\"][:]\n",
        "    y_test = dataset[\"y_test\"][:]"
      ],
      "execution_count": null,
      "outputs": []
    },
    {
      "cell_type": "code",
      "metadata": {
        "id": "fRzy_5gE0T5P",
        "colab": {
          "base_uri": "https://localhost:8080/",
          "height": 84
        },
        "outputId": "67436a3a-9b71-4e03-c087-72e5225666ea"
      },
      "source": [
        "print (\"x_train shape: \", x_train.shape)\n",
        "print (\"y_train shape: \", y_train.shape)\n",
        "\n",
        "print (\"x_test shape:  \", x_test.shape)\n",
        "print (\"y_test shape:  \", y_test.shape)"
      ],
      "execution_count": null,
      "outputs": [
        {
          "output_type": "stream",
          "text": [
            "x_train shape:  (10000, 4096)\n",
            "y_train shape:  (10000,)\n",
            "x_test shape:   (2000, 4096)\n",
            "y_test shape:   (2000,)\n"
          ],
          "name": "stdout"
        }
      ]
    },
    {
      "cell_type": "code",
      "metadata": {
        "id": "lc3VAXtVB59X",
        "colab": {
          "base_uri": "https://localhost:8080/",
          "height": 34
        },
        "outputId": "9b3176e8-4d8d-482f-813f-f9dad07cf4ab"
      },
      "source": [
        "y_train[1], y_test[1]"
      ],
      "execution_count": null,
      "outputs": [
        {
          "output_type": "execute_result",
          "data": {
            "text/plain": [
              "(5, 7)"
            ]
          },
          "metadata": {
            "tags": []
          },
          "execution_count": 116
        }
      ]
    },
    {
      "cell_type": "code",
      "metadata": {
        "id": "_hdLCIVo0_CC"
      },
      "source": [
        "## Introduce the channel dimension in the input dataset \n",
        "xtrain = np.ndarray((x_train.shape[0], 4096, 3))\n",
        "xtest = np.ndarray((x_test.shape[0], 4096, 3))\n",
        "\n",
        "## iterate in train and test, add the rgb dimension \n",
        "def add_rgb_dimension(array):\n",
        "    scaler_map = cm.ScalarMappable(cmap=\"Oranges\")\n",
        "    array = scaler_map.to_rgba(array)[:, : -1]\n",
        "    return array\n",
        "for i in range(x_train.shape[0]):\n",
        "    xtrain[i] = add_rgb_dimension(x_train[i])\n",
        "for i in range(x_test.shape[0]):\n",
        "    xtest[i] = add_rgb_dimension(x_test[i])\n",
        "\n",
        "## convert to 1 + 4D space (1st argument represents number of rows in the dataset)\n",
        "xtrain = xtrain.reshape(x_train.shape[0], 16, 16, 16, 3)\n",
        "xtest = xtest.reshape(x_test.shape[0], 16, 16, 16, 3)\n",
        "\n",
        "## convert target variable into one-hot\n",
        "y_train = to_categorical(y_train, 10)\n",
        "y_test = to_categorical(y_test, 10)"
      ],
      "execution_count": null,
      "outputs": []
    },
    {
      "cell_type": "code",
      "metadata": {
        "id": "Vs08N-881VsL",
        "colab": {
          "base_uri": "https://localhost:8080/",
          "height": 50
        },
        "outputId": "397c38d3-8fec-4da6-bfc4-328ec5343db9"
      },
      "source": [
        "print(x_train.shape, xtrain.shape)\n",
        "y_train.shape"
      ],
      "execution_count": null,
      "outputs": [
        {
          "output_type": "stream",
          "text": [
            "(10000, 4096) (10000, 16, 16, 16, 3)\n"
          ],
          "name": "stdout"
        },
        {
          "output_type": "execute_result",
          "data": {
            "text/plain": [
              "(10000, 10)"
            ]
          },
          "metadata": {
            "tags": []
          },
          "execution_count": 118
        }
      ]
    },
    {
      "cell_type": "code",
      "metadata": {
        "id": "NNpnvjZ2MIb_"
      },
      "source": [
        "class CustomHistory(keras.callbacks.Callback):\n",
        "    def init(self):\n",
        "        self.train_loss = []\n",
        "        self.val_loss = []\n",
        "        self.train_acc = []\n",
        "        self.val_acc = []        \n",
        "        \n",
        "    def on_epoch_end(self, batch, logs={}):\n",
        "        self.train_loss.append(logs.get('loss'))\n",
        "        self.val_loss.append(logs.get('val_loss'))\n",
        "        self.train_acc.append(logs.get('acc'))\n",
        "        self.val_acc.append(logs.get('val_acc'))\n",
        "        \n",
        "custom_hist = CustomHistory()\n",
        "custom_hist.init()\n"
      ],
      "execution_count": null,
      "outputs": []
    },
    {
      "cell_type": "code",
      "metadata": {
        "id": "UhZevuzj2Cbo",
        "colab": {
          "base_uri": "https://localhost:8080/",
          "height": 924
        },
        "outputId": "19826c72-adc2-4b9a-f4b2-c13ce80c97bf"
      },
      "source": [
        "## input layer\n",
        "input_layer = Input((16, 16, 16, 3))\n",
        "\n",
        "## convolutional layers\n",
        "conv_layer1 = Conv3D(filters=8, kernel_size=(3, 3, 3), padding='same', use_bias=False)(input_layer)\n",
        "conv_layer1 = BatchNormalization()(conv_layer1)\n",
        "conv_layer1 = Activation(\"relu\")(conv_layer1)\n",
        "\n",
        "conv_layer2 = Conv3D(filters=16, kernel_size=(3, 3, 3), padding='same', use_bias=False)(conv_layer1)\n",
        "conv_layer2 = BatchNormalization()(conv_layer2)\n",
        "conv_layer2 = Activation(\"relu\")(conv_layer2)\n",
        "\n",
        "pooling_layer1 = MaxPool3D(pool_size=(2, 2, 2), strides =2)(conv_layer2)\n",
        "pooling_layer1 = Dropout(0.1)(pooling_layer1)\n",
        "\n",
        "conv_layer3 = Conv3D(filters=32, kernel_size=(3, 3, 3), padding='same', use_bias=False)(pooling_layer1)\n",
        "conv_layer3 = BatchNormalization()(conv_layer3)\n",
        "conv_layer3 = Activation(\"relu\")(conv_layer3)\n",
        "\n",
        "conv_layer4 = Conv3D(filters=64, kernel_size=(3, 3, 3), padding='same', use_bias=False)(conv_layer3)\n",
        "conv_layer4 = BatchNormalization()(conv_layer4)\n",
        "conv_layer4 = Activation(\"relu\")(conv_layer4)\n",
        "\n",
        "pooling_layer2 = MaxPool3D(pool_size=(2, 2, 2), strides =2)(conv_layer4)\n",
        "pooling_layer2 = Dropout(0.3)(pooling_layer2)\n",
        "\n",
        "flatten_layer = Flatten()(pooling_layer2)\n",
        "\n",
        "## create an MLP architecture with dense layers : 4096 -> 512 -> 10\n",
        "## add dropouts to avoid overfitting / perform regularization\n",
        "dense_layer1 = Dense(units=4096, activation='relu')(flatten_layer)\n",
        "dense_layer1 = Dropout(0.4)(dense_layer1)\n",
        "dense_layer2 = Dense(units=1024, activation='relu')(dense_layer1)\n",
        "dense_layer2 = Dropout(0.5)(dense_layer2)\n",
        "output_layer = Dense(units=10, activation='softmax')(dense_layer2)\n",
        "\n",
        "## define the model with input layer and output layer\n",
        "model = Model(inputs=input_layer, outputs=output_layer, name=\"3D-CNN\")\n",
        "model_name = model.name\n",
        "model.summary()"
      ],
      "execution_count": null,
      "outputs": [
        {
          "output_type": "stream",
          "text": [
            "Model: \"3D-CNN\"\n",
            "_________________________________________________________________\n",
            "Layer (type)                 Output Shape              Param #   \n",
            "=================================================================\n",
            "input_7 (InputLayer)         (None, 16, 16, 16, 3)     0         \n",
            "_________________________________________________________________\n",
            "conv3d_25 (Conv3D)           (None, 16, 16, 16, 8)     648       \n",
            "_________________________________________________________________\n",
            "batch_normalization_25 (Batc (None, 16, 16, 16, 8)     32        \n",
            "_________________________________________________________________\n",
            "activation_25 (Activation)   (None, 16, 16, 16, 8)     0         \n",
            "_________________________________________________________________\n",
            "conv3d_26 (Conv3D)           (None, 16, 16, 16, 16)    3456      \n",
            "_________________________________________________________________\n",
            "batch_normalization_26 (Batc (None, 16, 16, 16, 16)    64        \n",
            "_________________________________________________________________\n",
            "activation_26 (Activation)   (None, 16, 16, 16, 16)    0         \n",
            "_________________________________________________________________\n",
            "max_pooling3d_13 (MaxPooling (None, 8, 8, 8, 16)       0         \n",
            "_________________________________________________________________\n",
            "dropout_22 (Dropout)         (None, 8, 8, 8, 16)       0         \n",
            "_________________________________________________________________\n",
            "conv3d_27 (Conv3D)           (None, 8, 8, 8, 32)       13824     \n",
            "_________________________________________________________________\n",
            "batch_normalization_27 (Batc (None, 8, 8, 8, 32)       128       \n",
            "_________________________________________________________________\n",
            "activation_27 (Activation)   (None, 8, 8, 8, 32)       0         \n",
            "_________________________________________________________________\n",
            "conv3d_28 (Conv3D)           (None, 8, 8, 8, 64)       55296     \n",
            "_________________________________________________________________\n",
            "batch_normalization_28 (Batc (None, 8, 8, 8, 64)       256       \n",
            "_________________________________________________________________\n",
            "activation_28 (Activation)   (None, 8, 8, 8, 64)       0         \n",
            "_________________________________________________________________\n",
            "max_pooling3d_14 (MaxPooling (None, 4, 4, 4, 64)       0         \n",
            "_________________________________________________________________\n",
            "dropout_23 (Dropout)         (None, 4, 4, 4, 64)       0         \n",
            "_________________________________________________________________\n",
            "flatten_7 (Flatten)          (None, 4096)              0         \n",
            "_________________________________________________________________\n",
            "dense_19 (Dense)             (None, 4096)              16781312  \n",
            "_________________________________________________________________\n",
            "dropout_24 (Dropout)         (None, 4096)              0         \n",
            "_________________________________________________________________\n",
            "dense_20 (Dense)             (None, 1024)              4195328   \n",
            "_________________________________________________________________\n",
            "dropout_25 (Dropout)         (None, 1024)              0         \n",
            "_________________________________________________________________\n",
            "dense_21 (Dense)             (None, 10)                10250     \n",
            "=================================================================\n",
            "Total params: 21,060,594\n",
            "Trainable params: 21,060,354\n",
            "Non-trainable params: 240\n",
            "_________________________________________________________________\n"
          ],
          "name": "stdout"
        }
      ]
    },
    {
      "cell_type": "code",
      "metadata": {
        "id": "cfcJpLX8tfBC"
      },
      "source": [
        "from keras.callbacks import ModelCheckpoint, EarlyStopping, ReduceLROnPlateau\n",
        "\n",
        "#patience:\n",
        "patience_earlystop = 7\n",
        "patience_ReduceLROnPlateau = 3\n",
        "\n",
        "filepath = '/content/best_weight.h5'\n",
        "mcp = ModelCheckpoint(filepath, monitor='val_loss', mode='min', save_best_only=True, save_weights_only=True, verbose=1)\n",
        "earlystop = EarlyStopping(monitor='val_loss',\n",
        "                          mode='min',\n",
        "                          patience=patience_earlystop,\n",
        "                          verbose=1)\n",
        "learning_rate_reduction = ReduceLROnPlateau(monitor='val_acc', \n",
        "                                            patience=patience_ReduceLROnPlateau, \n",
        "                                            verbose=1, \n",
        "                                            factor=0.5, \n",
        "                                            min_lr=1e-5)"
      ],
      "execution_count": null,
      "outputs": []
    },
    {
      "cell_type": "code",
      "metadata": {
        "id": "wZWHOWT3KCNv",
        "colab": {
          "base_uri": "https://localhost:8080/",
          "height": 1000
        },
        "outputId": "35395fcd-1b1e-4747-87f6-62f3519a1f12"
      },
      "source": [
        "model.compile(loss=categorical_crossentropy, optimizer='adam', metrics=['acc'])\n",
        "epochs=50\n",
        "\n",
        "history = model.fit(x=xtrain, y=y_train, batch_size=64\n",
        "          , epochs=epochs, validation_split=0.25, callbacks=[earlystop, learning_rate_reduction, mcp])\n",
        "  "
      ],
      "execution_count": null,
      "outputs": [
        {
          "output_type": "stream",
          "text": [
            "Train on 7500 samples, validate on 2500 samples\n",
            "Epoch 1/50\n",
            "7500/7500 [==============================] - 4s 588us/step - loss: 3.9548 - acc: 0.1484 - val_loss: 2.7235 - val_acc: 0.1176\n",
            "\n",
            "Epoch 00001: val_loss improved from inf to 2.72348, saving model to /content/best_weight.h5\n",
            "Epoch 2/50\n",
            "7500/7500 [==============================] - 4s 502us/step - loss: 2.0257 - acc: 0.2723 - val_loss: 2.2412 - val_acc: 0.1856\n",
            "\n",
            "Epoch 00002: val_loss improved from 2.72348 to 2.24116, saving model to /content/best_weight.h5\n",
            "Epoch 3/50\n",
            "7500/7500 [==============================] - 4s 502us/step - loss: 1.7061 - acc: 0.4031 - val_loss: 1.5635 - val_acc: 0.4716\n",
            "\n",
            "Epoch 00003: val_loss improved from 2.24116 to 1.56351, saving model to /content/best_weight.h5\n",
            "Epoch 4/50\n",
            "7500/7500 [==============================] - 4s 504us/step - loss: 1.5068 - acc: 0.4780 - val_loss: 1.4924 - val_acc: 0.4832\n",
            "\n",
            "Epoch 00004: val_loss improved from 1.56351 to 1.49240, saving model to /content/best_weight.h5\n",
            "Epoch 5/50\n",
            "7500/7500 [==============================] - 4s 505us/step - loss: 1.3443 - acc: 0.5315 - val_loss: 2.2176 - val_acc: 0.3540\n",
            "\n",
            "Epoch 00005: val_loss did not improve from 1.49240\n",
            "Epoch 6/50\n",
            "7500/7500 [==============================] - 4s 503us/step - loss: 1.2537 - acc: 0.5667 - val_loss: 1.4252 - val_acc: 0.5088\n",
            "\n",
            "Epoch 00006: val_loss improved from 1.49240 to 1.42518, saving model to /content/best_weight.h5\n",
            "Epoch 7/50\n",
            "7500/7500 [==============================] - 4s 504us/step - loss: 1.1854 - acc: 0.5891 - val_loss: 1.8156 - val_acc: 0.4312\n",
            "\n",
            "Epoch 00007: val_loss did not improve from 1.42518\n",
            "Epoch 8/50\n",
            "7500/7500 [==============================] - 4s 501us/step - loss: 1.1288 - acc: 0.6117 - val_loss: 1.1219 - val_acc: 0.6192\n",
            "\n",
            "Epoch 00008: val_loss improved from 1.42518 to 1.12193, saving model to /content/best_weight.h5\n",
            "Epoch 9/50\n",
            "7500/7500 [==============================] - 4s 504us/step - loss: 1.1053 - acc: 0.6139 - val_loss: 1.1348 - val_acc: 0.6176\n",
            "\n",
            "Epoch 00009: val_loss did not improve from 1.12193\n",
            "Epoch 10/50\n",
            "7500/7500 [==============================] - 4s 503us/step - loss: 1.0697 - acc: 0.6288 - val_loss: 1.9195 - val_acc: 0.4052\n",
            "\n",
            "Epoch 00010: val_loss did not improve from 1.12193\n",
            "Epoch 11/50\n",
            "7500/7500 [==============================] - 4s 506us/step - loss: 1.0382 - acc: 0.6363 - val_loss: 1.0632 - val_acc: 0.6432\n",
            "\n",
            "Epoch 00011: val_loss improved from 1.12193 to 1.06319, saving model to /content/best_weight.h5\n",
            "Epoch 12/50\n",
            "7500/7500 [==============================] - 4s 509us/step - loss: 1.0127 - acc: 0.6495 - val_loss: 1.7505 - val_acc: 0.4920\n",
            "\n",
            "Epoch 00012: val_loss did not improve from 1.06319\n",
            "Epoch 13/50\n",
            "7500/7500 [==============================] - 4s 500us/step - loss: 1.0045 - acc: 0.6532 - val_loss: 0.9940 - val_acc: 0.6636\n",
            "\n",
            "Epoch 00013: val_loss improved from 1.06319 to 0.99399, saving model to /content/best_weight.h5\n",
            "Epoch 14/50\n",
            "7500/7500 [==============================] - 4s 506us/step - loss: 0.9752 - acc: 0.6620 - val_loss: 0.9538 - val_acc: 0.6684\n",
            "\n",
            "Epoch 00014: val_loss improved from 0.99399 to 0.95377, saving model to /content/best_weight.h5\n",
            "Epoch 15/50\n",
            "7500/7500 [==============================] - 4s 510us/step - loss: 0.9313 - acc: 0.6723 - val_loss: 1.1068 - val_acc: 0.6232\n",
            "\n",
            "Epoch 00015: val_loss did not improve from 0.95377\n",
            "Epoch 16/50\n",
            "7500/7500 [==============================] - 4s 500us/step - loss: 0.9324 - acc: 0.6719 - val_loss: 7.0379 - val_acc: 0.3340\n",
            "\n",
            "Epoch 00016: val_loss did not improve from 0.95377\n",
            "Epoch 17/50\n",
            "7500/7500 [==============================] - 4s 499us/step - loss: 0.9029 - acc: 0.6800 - val_loss: 1.0425 - val_acc: 0.6532\n",
            "\n",
            "Epoch 00017: ReduceLROnPlateau reducing learning rate to 0.0005000000237487257.\n",
            "\n",
            "Epoch 00017: val_loss did not improve from 0.95377\n",
            "Epoch 18/50\n",
            "7500/7500 [==============================] - 4s 502us/step - loss: 0.8249 - acc: 0.7160 - val_loss: 1.3529 - val_acc: 0.5456\n",
            "\n",
            "Epoch 00018: val_loss did not improve from 0.95377\n",
            "Epoch 19/50\n",
            "7500/7500 [==============================] - 4s 500us/step - loss: 0.7942 - acc: 0.7227 - val_loss: 2.3228 - val_acc: 0.4028\n",
            "\n",
            "Epoch 00019: val_loss did not improve from 0.95377\n",
            "Epoch 20/50\n",
            "7500/7500 [==============================] - 4s 501us/step - loss: 0.7653 - acc: 0.7299 - val_loss: 0.8019 - val_acc: 0.7188\n",
            "\n",
            "Epoch 00020: val_loss improved from 0.95377 to 0.80193, saving model to /content/best_weight.h5\n",
            "Epoch 21/50\n",
            "7500/7500 [==============================] - 4s 506us/step - loss: 0.7679 - acc: 0.7272 - val_loss: 0.8814 - val_acc: 0.6900\n",
            "\n",
            "Epoch 00021: val_loss did not improve from 0.80193\n",
            "Epoch 22/50\n",
            "7500/7500 [==============================] - 4s 503us/step - loss: 0.7298 - acc: 0.7429 - val_loss: 1.1214 - val_acc: 0.6596\n",
            "\n",
            "Epoch 00022: val_loss did not improve from 0.80193\n",
            "Epoch 23/50\n",
            "7500/7500 [==============================] - 4s 500us/step - loss: 0.7152 - acc: 0.7445 - val_loss: 0.8785 - val_acc: 0.6984\n",
            "\n",
            "Epoch 00023: ReduceLROnPlateau reducing learning rate to 0.0002500000118743628.\n",
            "\n",
            "Epoch 00023: val_loss did not improve from 0.80193\n",
            "Epoch 24/50\n",
            "7500/7500 [==============================] - 4s 500us/step - loss: 0.6751 - acc: 0.7612 - val_loss: 1.1017 - val_acc: 0.6520\n",
            "\n",
            "Epoch 00024: val_loss did not improve from 0.80193\n",
            "Epoch 25/50\n",
            "7500/7500 [==============================] - 4s 501us/step - loss: 0.6389 - acc: 0.7721 - val_loss: 0.7658 - val_acc: 0.7440\n",
            "\n",
            "Epoch 00025: val_loss improved from 0.80193 to 0.76579, saving model to /content/best_weight.h5\n",
            "Epoch 26/50\n",
            "7500/7500 [==============================] - 4s 504us/step - loss: 0.6151 - acc: 0.7816 - val_loss: 1.0290 - val_acc: 0.6604\n",
            "\n",
            "Epoch 00026: val_loss did not improve from 0.76579\n",
            "Epoch 27/50\n",
            "7500/7500 [==============================] - 4s 507us/step - loss: 0.6034 - acc: 0.7835 - val_loss: 0.8569 - val_acc: 0.7196\n",
            "\n",
            "Epoch 00027: val_loss did not improve from 0.76579\n",
            "Epoch 28/50\n",
            "7500/7500 [==============================] - 4s 500us/step - loss: 0.5929 - acc: 0.7872 - val_loss: 0.8069 - val_acc: 0.7304\n",
            "\n",
            "Epoch 00028: ReduceLROnPlateau reducing learning rate to 0.0001250000059371814.\n",
            "\n",
            "Epoch 00028: val_loss did not improve from 0.76579\n",
            "Epoch 29/50\n",
            "7500/7500 [==============================] - 4s 501us/step - loss: 0.5696 - acc: 0.8003 - val_loss: 0.9758 - val_acc: 0.6848\n",
            "\n",
            "Epoch 00029: val_loss did not improve from 0.76579\n",
            "Epoch 30/50\n",
            "7500/7500 [==============================] - 4s 500us/step - loss: 0.5502 - acc: 0.8069 - val_loss: 0.7250 - val_acc: 0.7588\n",
            "\n",
            "Epoch 00030: val_loss improved from 0.76579 to 0.72499, saving model to /content/best_weight.h5\n",
            "Epoch 31/50\n",
            "7500/7500 [==============================] - 4s 504us/step - loss: 0.5405 - acc: 0.8073 - val_loss: 0.7180 - val_acc: 0.7596\n",
            "\n",
            "Epoch 00031: val_loss improved from 0.72499 to 0.71803, saving model to /content/best_weight.h5\n",
            "Epoch 32/50\n",
            "7500/7500 [==============================] - 4s 507us/step - loss: 0.5262 - acc: 0.8151 - val_loss: 0.8604 - val_acc: 0.7196\n",
            "\n",
            "Epoch 00032: val_loss did not improve from 0.71803\n",
            "Epoch 33/50\n",
            "7500/7500 [==============================] - 4s 503us/step - loss: 0.5202 - acc: 0.8171 - val_loss: 0.7524 - val_acc: 0.7484\n",
            "\n",
            "Epoch 00033: val_loss did not improve from 0.71803\n",
            "Epoch 34/50\n",
            "7500/7500 [==============================] - 4s 503us/step - loss: 0.5135 - acc: 0.8153 - val_loss: 0.7405 - val_acc: 0.7428\n",
            "\n",
            "Epoch 00034: ReduceLROnPlateau reducing learning rate to 6.25000029685907e-05.\n",
            "\n",
            "Epoch 00034: val_loss did not improve from 0.71803\n",
            "Epoch 35/50\n",
            "7500/7500 [==============================] - 4s 503us/step - loss: 0.5115 - acc: 0.8165 - val_loss: 0.7108 - val_acc: 0.7644\n",
            "\n",
            "Epoch 00035: val_loss improved from 0.71803 to 0.71077, saving model to /content/best_weight.h5\n",
            "Epoch 36/50\n",
            "7500/7500 [==============================] - 4s 503us/step - loss: 0.4967 - acc: 0.8257 - val_loss: 0.7647 - val_acc: 0.7508\n",
            "\n",
            "Epoch 00036: val_loss did not improve from 0.71077\n",
            "Epoch 37/50\n",
            "7500/7500 [==============================] - 4s 499us/step - loss: 0.4929 - acc: 0.8264 - val_loss: 0.7270 - val_acc: 0.7576\n",
            "\n",
            "Epoch 00037: val_loss did not improve from 0.71077\n",
            "Epoch 38/50\n",
            "7500/7500 [==============================] - 4s 503us/step - loss: 0.4785 - acc: 0.8304 - val_loss: 0.7323 - val_acc: 0.7616\n",
            "\n",
            "Epoch 00038: ReduceLROnPlateau reducing learning rate to 3.125000148429535e-05.\n",
            "\n",
            "Epoch 00038: val_loss did not improve from 0.71077\n",
            "Epoch 39/50\n",
            "7500/7500 [==============================] - 4s 504us/step - loss: 0.4721 - acc: 0.8301 - val_loss: 0.7095 - val_acc: 0.7672\n",
            "\n",
            "Epoch 00039: val_loss improved from 0.71077 to 0.70947, saving model to /content/best_weight.h5\n",
            "Epoch 40/50\n",
            "7500/7500 [==============================] - 4s 502us/step - loss: 0.4712 - acc: 0.8311 - val_loss: 0.7122 - val_acc: 0.7616\n",
            "\n",
            "Epoch 00040: val_loss did not improve from 0.70947\n",
            "Epoch 41/50\n",
            "7500/7500 [==============================] - 4s 496us/step - loss: 0.4636 - acc: 0.8355 - val_loss: 0.7151 - val_acc: 0.7644\n",
            "\n",
            "Epoch 00041: val_loss did not improve from 0.70947\n",
            "Epoch 42/50\n",
            "7500/7500 [==============================] - 4s 502us/step - loss: 0.4630 - acc: 0.8317 - val_loss: 0.7153 - val_acc: 0.7592\n",
            "\n",
            "Epoch 00042: ReduceLROnPlateau reducing learning rate to 1.5625000742147677e-05.\n",
            "\n",
            "Epoch 00042: val_loss did not improve from 0.70947\n",
            "Epoch 43/50\n",
            "7500/7500 [==============================] - 4s 501us/step - loss: 0.4692 - acc: 0.8336 - val_loss: 0.7062 - val_acc: 0.7636\n",
            "\n",
            "Epoch 00043: val_loss improved from 0.70947 to 0.70623, saving model to /content/best_weight.h5\n",
            "Epoch 44/50\n",
            "7500/7500 [==============================] - 4s 504us/step - loss: 0.4629 - acc: 0.8340 - val_loss: 0.7076 - val_acc: 0.7672\n",
            "\n",
            "Epoch 00044: val_loss did not improve from 0.70623\n",
            "Epoch 45/50\n",
            "7500/7500 [==============================] - 4s 501us/step - loss: 0.4543 - acc: 0.8360 - val_loss: 0.7073 - val_acc: 0.7660\n",
            "\n",
            "Epoch 00045: ReduceLROnPlateau reducing learning rate to 1e-05.\n",
            "\n",
            "Epoch 00045: val_loss did not improve from 0.70623\n",
            "Epoch 46/50\n",
            "7500/7500 [==============================] - 4s 500us/step - loss: 0.4528 - acc: 0.8416 - val_loss: 0.7096 - val_acc: 0.7672\n",
            "\n",
            "Epoch 00046: val_loss did not improve from 0.70623\n",
            "Epoch 47/50\n",
            "7500/7500 [==============================] - 4s 500us/step - loss: 0.4609 - acc: 0.8332 - val_loss: 0.7080 - val_acc: 0.7656\n",
            "\n",
            "Epoch 00047: val_loss did not improve from 0.70623\n",
            "Epoch 48/50\n",
            "7500/7500 [==============================] - 4s 504us/step - loss: 0.4527 - acc: 0.8391 - val_loss: 0.7088 - val_acc: 0.7644\n",
            "\n",
            "Epoch 00048: val_loss did not improve from 0.70623\n",
            "Epoch 49/50\n",
            "7500/7500 [==============================] - 4s 500us/step - loss: 0.4553 - acc: 0.8385 - val_loss: 0.7048 - val_acc: 0.7672\n",
            "\n",
            "Epoch 00049: val_loss improved from 0.70623 to 0.70477, saving model to /content/best_weight.h5\n",
            "Epoch 50/50\n",
            "7500/7500 [==============================] - 4s 503us/step - loss: 0.4492 - acc: 0.8360 - val_loss: 0.7074 - val_acc: 0.7652\n",
            "\n",
            "Epoch 00050: val_loss did not improve from 0.70477\n"
          ],
          "name": "stdout"
        }
      ]
    },
    {
      "cell_type": "code",
      "metadata": {
        "id": "B9NJl4GxuLpd"
      },
      "source": [
        "#Define a smooth function to display the training and validation curves\n",
        "def plot_smoothed_learning_curves(history):\n",
        "    val_loss = history.history['val_loss']#[-30:-1] #Uncomment if you want to see only the last epochs\n",
        "    loss = history.history['loss']#[-30:-1]\n",
        "    acc = history.history['acc']#[-30:-1]\n",
        "    val_acc = history.history['val_acc']#[-30:-1]\n",
        "    \n",
        "    epochs = range(1, len(acc)+1 )\n",
        "    \n",
        "    # Plot the loss and accuracy curves for training and validation \n",
        "    fig, ax = plt.subplots(2,1, figsize=(12, 12))\n",
        "    ax[0].plot(epochs, smooth_curve(loss), 'bo', label=\"Smoothed training loss\")\n",
        "    ax[0].plot(epochs, smooth_curve(val_loss), 'b', label=\"Smoothed validation loss\",axes =ax[0])\n",
        "    legend = ax[0].legend(loc='best', shadow=True)\n",
        "    ax[0].set_xlabel('Epochs')\n",
        "    ax[0].set_ylabel('Loss')\n",
        "\n",
        "    ax[1].plot(epochs, smooth_curve(acc), 'bo', label=\"Smoothed training accuracy\")\n",
        "    ax[1].plot(epochs, smooth_curve(val_acc), 'b',label=\"Smoothed validation accuracy\")\n",
        "    legend = ax[1].legend(loc='best', shadow=True)\n",
        "    ax[1].set_xlabel('Epochs')\n",
        "    ax[1].set_ylabel('Accuracy')\n",
        "    return\n",
        "\n",
        "def smooth_curve(points, factor=0.8):\n",
        "    smoothed_points = []\n",
        "    for point in points:\n",
        "        if smoothed_points:\n",
        "            previous = smoothed_points[-1]\n",
        "            smoothed_points.append(previous*factor + point*(1-factor))\n",
        "        else:\n",
        "            smoothed_points.append(point)\n",
        "    return smoothed_points"
      ],
      "execution_count": null,
      "outputs": []
    },
    {
      "cell_type": "code",
      "metadata": {
        "id": "12cTpRMKuQtR",
        "colab": {
          "base_uri": "https://localhost:8080/",
          "height": 714
        },
        "outputId": "01cd117d-c6d7-4822-f58f-a6e1f2877f68"
      },
      "source": [
        "# Visualisation:\n",
        "plot_smoothed_learning_curves(history)"
      ],
      "execution_count": null,
      "outputs": [
        {
          "output_type": "display_data",
          "data": {
            "image/png": "[encoded data removed]",
            "text/plain": [
              "<Figure size 864x864 with 2 Axes>"
            ]
          },
          "metadata": {
            "tags": [],
            "needs_background": "light"
          }
        }
      ]
    },
    {
      "cell_type": "code",
      "metadata": {
        "id": "TM-S9kV5umRL"
      },
      "source": [
        "#Load the best weights:\n",
        "model.load_weights('/content/best_weight.h5')\n",
        "with h5py.File('/content/drive/My Drive/3d/full_dataset_vectors.h5', 'r') as dataset:\n",
        "    y_test = dataset[\"y_test\"][:]\n",
        "    x_test = dataset[\"X_test\"][:]"
      ],
      "execution_count": null,
      "outputs": []
    },
    {
      "cell_type": "code",
      "metadata": {
        "id": "hT363WKpurCH",
        "colab": {
          "base_uri": "https://localhost:8080/",
          "height": 614
        },
        "outputId": "8a631bfc-edcf-411d-a4ba-be0030a0a251"
      },
      "source": [
        "def plot_confusion_matrix(model_name):\n",
        "    # Predict the values from the validation dataset\n",
        "    print(xtest.shape)\n",
        "    print(model_name.name)\n",
        "    y_pred = model_name.predict(xtest)\n",
        "    print(y_pred[2])\n",
        "    \n",
        "    # Because Y_pred is an array of probabilities, we have to convert it to one hot vectors \n",
        "    y_pred = np.argmax(y_pred, axis = 1)\n",
        "    print(\"predicted\", y_pred[2])\n",
        "    print(\"labels\", y_test[2])\n",
        "    \n",
        "    #Compute and print the accuracy scores:\n",
        "    \n",
        "    print('accuracy score:', accuracy_score(y_test, y_pred))\n",
        "    # compute the confusion matrix \n",
        "    # By definition a confusion matrix C is such that C_i,j is equal to the number of observations known to be in group i but predicted to be in group j.\n",
        "    cm = confusion_matrix(y_test, y_pred)\n",
        "    cm = pd.DataFrame(cm, index = range(10), columns = range(10))\n",
        "    # plot the confusion matrix\n",
        "    plt.figure(figsize=(8,8))\n",
        "    sns.heatmap(cm, cmap=\"Reds\", annot=True, fmt= '.0f')\n",
        "    plt.ylabel('True label')\n",
        "    plt.xlabel('Predicted label')\n",
        "    plt.show()\n",
        "    return\n",
        "\n",
        "plot_confusion_matrix(model)"
      ],
      "execution_count": null,
      "outputs": [
        {
          "output_type": "stream",
          "text": [
            "(2000, 16, 16, 16, 3)\n",
            "3D-CNN\n",
            "[7.9018294e-14 1.8068626e-11 9.9999714e-01 4.7486758e-08 1.0695364e-08\n",
            " 6.7118215e-08 4.0497037e-09 2.8179202e-06 3.0873963e-11 3.8430942e-12]\n",
            "predicted 2\n",
            "labels 2\n",
            "accuracy score: 0.758\n"
          ],
          "name": "stdout"
        },
        {
          "output_type": "display_data",
          "data": {
            "image/png": "[encoded data removed]",
            "text/plain": [
              "<Figure size 576x576 with 2 Axes>"
            ]
          },
          "metadata": {
            "tags": [],
            "needs_background": "light"
          }
        }
      ]
    },
    {
      "cell_type": "code",
      "metadata": {
        "id": "ARgwZ7NAy6jB",
        "colab": {
          "base_uri": "https://localhost:8080/",
          "height": 50
        },
        "outputId": "8fc86061-e5b0-4954-ed5f-4efb685bdb58"
      },
      "source": [
        "!unzip /content/drive/'My Drive'/3d/239_748156_bundle_archive.zip -d /content/drive/'My Drive'/3d/"
      ],
      "execution_count": null,
      "outputs": [
        {
          "output_type": "stream",
          "text": [
            "Archive:  /content/drive/My Drive/3d/239_748156_bundle_archive.zip\n",
            "replace /content/drive/My Drive/3d/full_dataset_vectors.h5? [y]es, [n]o, [A]ll, [N]one, [r]ename: "
          ],
          "name": "stdout"
        }
      ]
    },
    {
      "cell_type": "code",
      "metadata": {
        "id": "w-8by3AYNiCf",
        "colab": {
          "base_uri": "https://localhost:8080/",
          "height": 279
        },
        "outputId": "2fad059a-9c2f-449a-c50b-589d283c7464"
      },
      "source": [
        "%matplotlib inline\n",
        "import matplotlib.pyplot as plt\n",
        "\n",
        "fig, loss_ax = plt.subplots()\n",
        "acc_ax = loss_ax.twinx()\n",
        "loss_ax.plot(custom_hist.train_loss, 'b--', label='train loss')\n",
        "loss_ax.plot(custom_hist.val_loss, 'b', label='val loss')\n",
        "\n",
        "acc_ax.plot(custom_hist.train_acc, 'r--', label='train acc')\n",
        "acc_ax.plot(custom_hist.val_acc, 'r', label='val acc')\n",
        "\n",
        "loss_ax.set_xlabel('epoch')\n",
        "loss_ax.set_ylabel('loss')\n",
        "acc_ax.set_ylabel('accuracy')\n",
        "\n",
        "loss_ax.legend(loc='upper left')\n",
        "acc_ax.legend(loc='upper right')\n",
        "\n",
        "plt.show()"
      ],
      "execution_count": null,
      "outputs": [
        {
          "output_type": "display_data",
          "data": {
            "image/png": "[encoded data removed]",
            "text/plain": [
              "<Figure size 432x288 with 2 Axes>"
            ]
          },
          "metadata": {
            "tags": [],
            "needs_background": "light"
          }
        }
      ]
    },
    {
      "cell_type": "code",
      "metadata": {
        "id": "c97pPsf86Zjw",
        "colab": {
          "base_uri": "https://localhost:8080/",
          "height": 34
        },
        "outputId": "d16e2346-2ad4-43d9-c89b-21f0d0c9664a"
      },
      "source": [
        "pred = model.predict(xtest)\n",
        "pred = np.argmax(pred, axis=1)\n",
        "pred"
      ],
      "execution_count": null,
      "outputs": [
        {
          "output_type": "execute_result",
          "data": {
            "text/plain": [
              "array([7, 7, 2, ..., 6, 9, 8])"
            ]
          },
          "metadata": {
            "tags": []
          },
          "execution_count": 26
        }
      ]
    }
  ]
}